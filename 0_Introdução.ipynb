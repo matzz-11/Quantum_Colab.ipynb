{
  "nbformat": 4,
  "nbformat_minor": 0,
  "metadata": {
    "colab": {
      "provenance": [],
      "collapsed_sections": [
        "Obpt1GHLjWXs",
        "DPqb-Ml2i06_",
        "FWfID1UMkMxQ"
      ],
      "include_colab_link": true
    },
    "kernelspec": {
      "name": "python3",
      "display_name": "Python 3"
    },
    "language_info": {
      "name": "python"
    }
  },
  "cells": [
    {
      "cell_type": "markdown",
      "metadata": {
        "id": "view-in-github",
        "colab_type": "text"
      },
      "source": [
        "<a href=\"https://colab.research.google.com/github/matzz-11/Quantum_Colab.ipynb/blob/main/0_Introdu%C3%A7%C3%A3o.ipynb\" target=\"_parent\"><img src=\"https://colab.research.google.com/assets/colab-badge.svg\" alt=\"Open In Colab\"/></a>"
      ]
    },
    {
      "cell_type": "markdown",
      "source": [
        "# Introdução a Mecânica Quântica - Explorando o imperceptível.\n",
        "## Boas vindas, estudante! Vamos simular diversos potenciais quânticos de forma interativa e com desafios para complementar nosso aprendizado!\n",
        "###Vamos iniciar com uma **breve** explicação sobre o coração de nossas simulações: **a normalização e os potenciais das funções de onda**.\n",
        "### Nossa referência para essas construções será o livro \"Mecânica Quântica 2e\" do autor \"David J. Griffiths\". Não é necessário ter o livro em mãos para acompanhar, já que cada código terá seu texto complementar buscando explicar o máximo possível suas funcionalidades e origem! Mesmo assim, recomendo a leitura do livro, que é bem explicativo e exemplificado!\n"
      ],
      "metadata": {
        "id": "VvvNooA2u5bg"
      }
    },
    {
      "cell_type": "markdown",
      "source": [
        "## Ordem recomendada para interação com os potenciais (De acordo com o livro base)"
      ],
      "metadata": {
        "id": "r6Jb4vlpqAi1"
      }
    },
    {
      "cell_type": "markdown",
      "source": [
        "---\n",
        "- Poço Quadrado Infinito\n",
        "---\n",
        "- Oscilador Harmônico Quântico\n",
        "---\n",
        "- Partícula Livre (Pacotes de ondas)\n",
        "---\n",
        "- Poço Função Delta\n",
        "---\n",
        "- Poço Quadrado Finito\n",
        "---\n",
        "- Poço Duplo\n",
        "---\n"
      ],
      "metadata": {
        "id": "jCBF_-QkqHlA"
      }
    },
    {
      "cell_type": "markdown",
      "source": [
        "## O que são funções de onda?"
      ],
      "metadata": {
        "id": "Obpt1GHLjWXs"
      }
    },
    {
      "cell_type": "markdown",
      "source": [
        "Na mecânica quântica, o que governa seu estudo é a **probabilidade**. Não temos mais como saber determinísticamente os parâmetros das partículas como fazemos na física clássica com corpos extensos ou pontos materiais. Precisamos então de uma nova ferramenta, que chamamos de **função de onda**.\n",
        "$$\n",
        "|Ψ(r,t)|\n",
        "$$\n",
        "\n",
        "A função de onda é um item matemático que contém toda a informação física possível sobre uma partícula e que satisfaz a **equação de Schrodinger**. Caso você nunca tenha ouvido falar sobre a equação de Schrodinger, vamos para uma breve explicação.\n",
        "A equação de Schrodinger (unidimensional, para simplificar) é dada por:\n",
        "$$\n",
        "\ti \\hbar \\frac{\\partial \\psi(x,t)}{\\partial t} = \\left( -\\frac{\\hbar^2}{2m} \\frac{\\partial^2}{\\partial x^2} + V(x) \\right) \\psi(x,t)\n",
        "$$\n",
        "Ela nos mostra como determinadas funções de onda evoluem no tempo, considerando as condições iniciais e o potencial que ela \"sofre\". As funções de onda que iremos trabalhar satisfazem a equação de Schrodinger, cada uma nas condições do potencial envolvido!\n",
        "\n",
        "*Nesse estudo, não iremos resolver a equação de Schrodinger para todos os potenciais, mas apenas utilizar os resultados para construir simulações que permitem entender o que está de fato ocorrendo com a partícula. No entanto, se tiver curiosidade em saber como é resolvida a equação de Schrodinger ou apenas tentar resolver, irei deixar os potenciais e condições iniciais em cada tópico! Procure também olhar o livro de referência desse estudo, caso não consiga resolver!*"
      ],
      "metadata": {
        "id": "o8r-nadTbFXf"
      }
    },
    {
      "cell_type": "markdown",
      "source": [
        "## O que é normalização?"
      ],
      "metadata": {
        "id": "DPqb-Ml2i06_"
      }
    },
    {
      "cell_type": "markdown",
      "source": [
        "Certo, mas para que usamos as funções de onda? Bom, ela em si não tem uma interpretação física direta, porém, seu módulo ao quadrado representa a densidade de probabilidade de encontrarmos a partícula em um intervalo!\n",
        "\n",
        "$$\n",
        "|Ψ(x,t)|^2\n",
        "$$\n",
        "\n",
        "Dessa forma, ao somarmos todas as densidades de probabilidades p(x) multiplicadas pelos respectivos intervalos x + dx, devemos encontrar 1 como valor, pois a partícula tem de estar em algum local!\n",
        "\n",
        "$$\n",
        "∫|Ψ(x,t)|^2 dx = 1\n",
        "$$\n",
        "\n",
        "Essa soma de densidades de probabilidades multiplicada pelos intervalos é o que chamamos de **Normalização**. Esse processo é um dos mais importantes de toda a mecânica quântica, pois, **somente soluções normalizáveis representam partículas**. Para que uma função de onda seja normalizável, Ψ(x,t) deve ir a 0 quando x vai ao infinito!\n",
        "\n",
        "\n"
      ],
      "metadata": {
        "id": "QFvF6Ngmi37J"
      }
    },
    {
      "cell_type": "markdown",
      "source": [
        "## O que são os potenciais?\n"
      ],
      "metadata": {
        "id": "FWfID1UMkMxQ"
      }
    },
    {
      "cell_type": "markdown",
      "source": [
        "O potencial na mecânica quântica, assim como na física clássica, representa o ambiente que a partícula está inserida, as forças que nela atuam! No entanto, na quântica, o potencial nos informa como a função de onda da partícula se comporta, **não a partícula em si**! Existem diversos tipos de potenciais que uma partícula pode estar submetida, mas nesse estudo iremos analisar casos simples de extrema importância no desenvolvimento de teorias modernas."
      ],
      "metadata": {
        "id": "MtWiGxI8kPT3"
      }
    }
  ]
}