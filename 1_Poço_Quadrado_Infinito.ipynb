{
  "nbformat": 4,
  "nbformat_minor": 0,
  "metadata": {
    "colab": {
      "provenance": [],
      "authorship_tag": "ABX9TyOeYPdGEHBmLcqHTVzrpPVp",
      "include_colab_link": true
    },
    "kernelspec": {
      "name": "python3",
      "display_name": "Python 3"
    },
    "language_info": {
      "name": "python"
    }
  },
  "cells": [
    {
      "cell_type": "markdown",
      "metadata": {
        "id": "view-in-github",
        "colab_type": "text"
      },
      "source": [
        "<a href=\"https://colab.research.google.com/github/matzz-11/Quantum_Colab.ipynb/blob/main/1_Po%C3%A7o_Quadrado_Infinito.ipynb\" target=\"_parent\"><img src=\"https://colab.research.google.com/assets/colab-badge.svg\" alt=\"Open In Colab\"/></a>"
      ]
    },
    {
      "cell_type": "markdown",
      "source": [
        "#Poço quadrado infinito\n"
      ],
      "metadata": {
        "id": "2Vk2WaLCqtZv"
      }
    },
    {
      "cell_type": "markdown",
      "source": [
        "---\n",
        "\n",
        "## Requisitos do Código\n",
        "Primeiramente, vamos falar das bibliotecas, que são essênciais para o bom funcionamento do código! Nessa simulação, vamos utilizar três:\n",
        "- numpy\n",
        "- matplotlib.pyplot\n",
        "- ipywidgets\n",
        "\n",
        "Elas são utilizadas para cálculos matemáticos, construções gráficas e criação de interfaces interativas, respectivamente. Com esse conhecimento, podemos partir para o código em si!\n",
        "\n",
        "**NÃO SE ESQUEÇA DOS DESAFIOS PARA TREINAR APÓS O CÓDIGO!!**\n",
        "\n",
        "---\n",
        "\n",
        "## Potencial e Função de onda\n",
        "O ponto chave desta simulação é a nossa função de onda, que nada mais é do que uma solução da Equação de Schrodinger para o seguinte potencial:\n",
        "\n",
        "$$\n",
        "V(x) =\n",
        "\\begin{cases}\n",
        "0, & 0 < x < a \\\\\\\\\n",
        "\\infty, & \\text{caso contrário}\n",
        "\\end{cases}\n",
        "$$\n",
        "\n",
        "Após realizarmos os cálculos da equação de Schrodinger (Em breve iremos inserir aqui, enquanto isso você pode consultar o livro de referência (páginas 22-28) ou qualquer livro de sua escolha) chegamos na seguinte função de onda solução (já normalizada):\n",
        "\n",
        "$$\n",
        "\\psi_n(x) =\n",
        "\\begin{cases}\n",
        "\\sqrt{\\dfrac{2}{a}} \\sin\\left(\\dfrac{n\\pi x}{a}\\right), & 0 < x < a \\\\\\\\\n",
        "0, & \\text{caso contrário}\n",
        "\\end{cases}\n",
        "$$\n",
        "\n",
        "Como \"fora do poço\" a nossa função de onda deve ser zero pelas condições de normalização, os parâmetros que vão nos interessar aqui serão \"n\" e \"a\", o **número quântico** e a **largura do poço**! É através deles que iremos mudar os gráficos em tempo real e ver os resultados!\n",
        "\n",
        "---\n",
        "\n",
        "## Quantização da Energia\n",
        "\n",
        "Dada a solução, descobrimos que a Energia dos estados estacionários tem de ser quantizada para satisfazer as condições de contorno do problema! Assim, chegamos em na seguinte fórmula:\n",
        "\n",
        "$$\n",
        "E_n = \\frac{n^2 \\pi^2 \\hbar^2}{2 m a^2}, \\quad n = 1, 2, 3, \\dots\n",
        "$$\n",
        "\n",
        "Fisicamente, isso diz que a função de onda só pode assumir certos valores discretos, **e não nulos**, já que isso faria a função não ser normalizável (pois seria constante e nula). Quanto maior o \"n\", maior a energia, tornando nossa função mais ondulada! (Importante ressaltar que esse fenômeno de quantização só ocorre em um confinamento quântico devido as regras de ressonância do sistema).\n",
        "\n",
        "---\n",
        "\n",
        "## Aplicações\n",
        "Mesmo sendo um conceito introdutório de mecânica quântica, ele serve de base para estudarmos modelos avançados (como o poço finito) e em aplicações que utilizamos no dia a dia!\n",
        "\n",
        "O exemplo mais conhecido são os **LED's**! Imagine dois materiais semicondutores, sendo um deles com energia de banda maior que o outro. Ao colocar um pedaço muito fino do material com menor energia entre duas partes do que possui maior energia, criamos um confinamento dos elétrons naquela região, **como se estivem entre duas barreiras!** Através desse confinamento, podemos alterar a largura do \"poço\" criado para mudarmos a frequência emitida, mudando diretamente seus **estados de energia quantizados!!** É graças a esse conhecimento e tecnologia que podemos criar luzes LED de várias cores!\n",
        "\n",
        "---\n",
        "\n",
        "## Conclusão\n",
        "\n",
        "Finalizando, plotamos também a densidade de probabilidade da nossa função, para vermos o local que tem mais chance de conter a partícula! As linhas verticais e a área vermelha representam as \"bordas\" e a área proíbida, respectivamente. Segue uma legenda de cores do gráfico:\n",
        "\n",
        "Azul - Nível de energia atual\n",
        "\n",
        "Verde claro - Níveis sucessores e antecessores de energia\n",
        "\n",
        "Roxo - Função de onda\n",
        "\n",
        "Amarelo - Densidade de probabilidade da função de onda\n",
        "\n",
        "Rosa/Vermelho Claro - Local de potencial infinito\n",
        "\n",
        "---"
      ],
      "metadata": {
        "id": "ywa5I9LMqvae"
      }
    },
    {
      "cell_type": "markdown",
      "source": [
        "## Desafios para fixação\n",
        "\n",
        "---\n",
        "\n",
        "### Exercício 1 — Energia vs Largura do Poço\n",
        "\n",
        "Com o número quântico fixado em **n = 3**, utilize os controles interativos para alterar a **largura do poço \\( a \\)** em três valores diferentes:\n",
        "\n",
        "- \\( a = 1.0 \\)\n",
        "- \\( a = 3.0 \\)\n",
        "- \\( a = 5.0 \\)\n",
        "\n",
        "Acompanhe os valores aproximados de Energia na legenda do gráfico ou pela linha azul no gráfico.\n",
        "\n",
        "$$\n",
        "E_n ∝ \\frac{n^2}{a^2}\n",
        "$$\n",
        "\n",
        "> **Atividade**:\n",
        ">\n",
        "> 1. Observe e anote as alturas aproximadas de E(3) no eixo y para os três valores de (a).\n",
        "> 2. Comprove que a energia **diminui quando o poço se alarga**.\n",
        "\n",
        "---\n",
        "\n",
        "### Exercício 2 — Do Quântico ao Clássico\n",
        "\n",
        "Mude o modo de visualização para densidade de probabilidade (botão \"Mostrar\"). Explore como a distribuição se comporta para diferentes valores de número quântico \\( n \\):\n",
        "\n",
        "- \\( n = 1 \\)\n",
        "- \\( n = 2 \\)\n",
        "- \\( n = 3 \\)\n",
        "- \\( n = 4 \\)\n",
        "- \\( n = 5 \\)\n",
        "\n",
        "Observe como o gráfico muda conforme o número de oscilações da função de onda aumenta.\n",
        "\n",
        "> **Atividade**:\n",
        ">\n",
        "> 1. Compare a forma da densidade de probabilidade para os diferentes valores de (n).\n",
        "> 2. O gráfico se torna mais \"uniforme\" à medida que \\( n \\) cresce?\n",
        "> 3. O que isso nos diz sobre a **transição entre o mundo quântico e o mundo clássico**?\n",
        "\n",
        "---\n"
      ],
      "metadata": {
        "id": "sLqbamngq0T1"
      }
    }
  ]
}