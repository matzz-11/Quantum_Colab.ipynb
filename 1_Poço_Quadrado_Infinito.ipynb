!pip install -q ipywidgets

#Bibliotecas

import numpy as np
import matplotlib.pyplot as plt
from ipywidgets import interact, IntSlider, FloatSlider, Dropdown

#Constantes em unidades naturais
hbar = 1.0
m = 1.0

#Função de onda

def psi_n(x, n, a):
    psi = np.sqrt(2/a) * np.sin(n * np.pi * x / a)
    psi[(x < 0) | (x > a)] = 0
    return psi

#Energia Quantizada
def energia(ns, a):
    return (ns**2 * np.pi**2 * hbar**2) / (2 * m * a**2)

#Poço Completo
def plot_poco_multienergia(n=1, a=1.0, viz='ψ(x)', Nx=1000):
    Nlevels = 15
    x = np.linspace(-0.1, a + 0.1, Nx)

# Função de onda do nível destacado
    psi = psi_n(x, n, a)

# Todos os índices de 1 a 15 e suas energias
    ns = np.arange(1, Nlevels + 1)
    Es = energia(ns, a)

# Encontrar índices vizinhos para o nível n
    idx = n - 1
    prev_idx = idx - 1 if idx > 0 else None
    next_idx = idx + 1 if idx < Nlevels - 1 else None
    others = np.delete(Es, [i for i in (prev_idx, idx, next_idx) if i is not None])
    prev_level = Es[prev_idx] if prev_idx is not None else None
    next_level = Es[next_idx] if next_idx is not None else None
    En = Es[idx]

# Calcular ΔE do nível n (diferença para o próximo ou anterior)
    if next_level is not None:
        dE = next_level - En
    elif prev_level is not None:
        dE = En - prev_level
    else:
        dE = En

# Criar figura com dois subplots lado a lado
    fig, (ax1, ax2) = plt.subplots(1, 2, figsize=(16, 5))

# Gráfico da ESQUERDA: nível n
    ax1.axvspan(x.min(), 0, color='red', alpha=0.2)
    ax1.axvspan(a, x.max(), color='red', alpha=0.2)

# Desenhar as linhas de energia "outros" em cinza tracejado
    ax1.hlines(others, 0, a, colors='gray', linestyles='--', alpha=0.15, linewidth=0.8)

# Linha do nível anterior em verde pontilhado
    if prev_level is not None:
        ax1.hlines(prev_level, 0, a, colors='green', linestyles='-.', alpha=0.9, linewidth=2,
                   label=f'$E_{{{n-1}}}$ (anterior)')

# Linha do nível próximo em verde pontilhado
    if next_level is not None:
        ax1.hlines(next_level, 0, a, colors='green', linestyles='-.', alpha=0.9, linewidth=2,
                   label=f'$E_{{{n+1}}}$ (próximo)')

# Linha do nível atual em azul contínuo
    ax1.hlines(En, 0, a, color='blue', linestyle='-', linewidth=2.5,
               label=f'$E_{{{n}}} = {En:.2f}$')

# Plotar ψ e/ou densidade para o nível n
    if viz in ['ψ(x)', 'Ambos']:
        scale_psi = 0.6 * dE / np.max(np.abs(psi)) if np.max(np.abs(psi)) > 0 else 1
        y_psi = psi * scale_psi + En
        ax1.plot(x, y_psi, color='purple', linewidth=2, label=f'$\\psi_{{{n}}}(x)$')
    if viz in ['|ψ(x)|^2', 'Ambos']:
        dens = psi ** 2
        scale_dens = 0.6 * dE / np.max(dens) if np.max(dens) > 0 else 1
        y_dens = dens * scale_dens + En
        ax1.plot(x, y_dens, color='orange', linewidth=2, label=f'$|\\psi_{{{n}}}(x)|^2$')

# Ajustar limites de eixos para o gráfico da esquerda
    y_min = En - 1.2 * dE
    y_max = En + 1.2 * dE
    ax1.set_ylim(y_min, y_max)
    ax1.set_xlim(-0.1, a + 0.1)
    ax1.set_xlabel('x')
    ax1.set_ylabel('Amplitude + Energia')
    ax1.set_title(f'Poço Infinito (n={n}, a={a:.1f})')
    ax1.legend(bbox_to_anchor=(1.05, 1), loc='upper left')
    ax1.grid(True)

#Gráfico da DIREITA: níveis 1 a 15 simultâneos

    ax2.axvspan(x.min(), 0, color='red', alpha=0.2)       # região proibida x<0
    ax2.axvspan(a, x.max(), color='red', alpha=0.2)       # região proibida x>a

# Loop por cada nível i de 1 a 15
    for i, Ei in zip(ns, Es):
        psi_i = psi_n(x, i, a)
        dens_i = psi_i ** 2

# Calcular ΔE_i para escalonar essa função
        if i < Nlevels:
            dE_i = Es[i] - Ei            # E_{i+1} - E_i
        else:
            dE_i = Ei - Es[i - 2]        # (último caso) E_i - E_{i-1}

# Escalonar ψ_i (roxo)
        scale_psi_i = 0.6 * dE_i / np.max(np.abs(psi_i)) if np.max(np.abs(psi_i)) > 0 else 1
        y_psi_i = psi_i * scale_psi_i + Ei
        ax2.plot(x, y_psi_i, color='purple', linewidth=1)

# Escalonar dens_i (amarelo)
        scale_dens_i = 0.6 * dE_i / np.max(dens_i) if np.max(dens_i) > 0 else 1
        y_dens_i = dens_i * scale_dens_i + Ei
        ax2.plot(x, y_dens_i, color='gold', linewidth=1)

# Desenhar a linha de energia Ei (cinza tracejado fraco)
        ax2.hlines(Ei, 0, a, colors='gray', linestyles='--', alpha=0.15, linewidth=0.8)

# Ajustar limites para o gráfico da direita, cobrindo do nível 1 até o 15
    menor_espaco = Es[1] - Es[0]
    maior_espaco = Es[-1] - Es[-2]
    ax2.set_ylim(Es[0] - 1.2 * menor_espaco, Es[-1] + 1.2 * maior_espaco)
    ax2.set_xlim(-0.1, a + 0.1)
    ax2.set_xlabel('x')
    ax2.set_ylabel('Amplitude + Energia')
    ax2.set_title('Níveis 1 a 15: ψ em roxo e |ψ|² em amarelo')
    ax2.grid(True)

    plt.tight_layout()
    plt.show()

# Sliders interativos atualizados: n (1–15), a (0.5–5.0), viz e Nx (200–2000)
interact(
    plot_poco_multienergia,
    n=IntSlider(value=1, min=1, max=15, step=1, description='n'),
    a=FloatSlider(value=1.0, min=0.5, max=5.0, step=0.1, description='a'),
    viz=Dropdown(options=['ψ(x)', '|ψ(x)|^2', 'Ambos'], value='ψ(x)', description='Mostrar'),
    Nx=IntSlider(value=1000, min=200, max=2000, step=100, description='Pontos x')
)
