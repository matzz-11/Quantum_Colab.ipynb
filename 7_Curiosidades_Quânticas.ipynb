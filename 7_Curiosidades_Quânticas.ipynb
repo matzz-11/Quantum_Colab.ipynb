{
  "nbformat": 4,
  "nbformat_minor": 0,
  "metadata": {
    "colab": {
      "provenance": [],
      "authorship_tag": "ABX9TyORFKSY9w72EWjkI6PJfSE0",
      "include_colab_link": true
    },
    "kernelspec": {
      "name": "python3",
      "display_name": "Python 3"
    },
    "language_info": {
      "name": "python"
    }
  },
  "cells": [
    {
      "cell_type": "markdown",
      "metadata": {
        "id": "view-in-github",
        "colab_type": "text"
      },
      "source": [
        "<a href=\"https://colab.research.google.com/github/matzz-11/Quantum_Colab.ipynb/blob/main/7_Curiosidades_Qu%C3%A2nticas.ipynb\" target=\"_parent\"><img src=\"https://colab.research.google.com/assets/colab-badge.svg\" alt=\"Open In Colab\"/></a>"
      ]
    },
    {
      "cell_type": "markdown",
      "source": [
        "# Curiosidades sobre os potenciais estudados\n",
        "\n",
        "---\n",
        "\n",
        "#### Olá alunos! Nesse notebook iremos citar algumas curiosidades sobre os potenciais trabalhados, ajudando a fixar o conhecimento! Vamos lá?\n",
        "\n",
        "---\n",
        "\n",
        "## Poço de potencial infinito\n",
        "\n",
        "O poço de potencial infinito é uma excelente ferramenta de introdução ao pensamento quântico! Ao estudarmos e resolvermos suas equações, conseguimos entender o porquê da quantização de energia, distribuição de probabilidade nos estados exitados e a interpretação estatística, tudo em um único potencial. É a porta de entrada para o mundo quântico, além do fato de ser extremamente útil para simular situações com grande diferença de potencial entre as partículas.\n",
        "\n",
        "---\n",
        "\n",
        "## Oscilador Harmônico Quântico\n",
        "\n",
        "Esse tópico é de fato um dos mais importantes do estudo básico de mecânica quântica. O Oscilador Harmônico Quântico aparece praticamente em todo lugar na física quântica! Temos três curiosidades extremamente interessantes sobre ele:\n",
        "\n",
        "- Seu nível mínimo de energia não é nulo, **os átomos estão sempre vibrando!**\n",
        "\n",
        "- Os próximos níveis de energia são igualmente espaçados, o que permite **soluções por equação diferencial e método do degrau!**\n",
        "\n",
        "- O mínimo nível de energia do Oscilador H. Q. é também o **mais preciso caso do princípio da incerteza!**\n",
        "\n",
        "O último acaba por explicar o primeiro, pois de acordo com as condições de contorno e solução encontrada para os autovalores de Energia, vemos que a função de onda é uma gaussiana, **a qual se conserva na transformada de Fourier**, minimizando a incerteza do princípio para o menor valor! Dessa forma, também encontramos seu nível de energia diferente de zero. O segundo está diretamente ligado com a quantização da energia.\n",
        "\n",
        "---\n",
        "\n",
        "## Potencial da partícula livre (pacotes de ondas)\n",
        "\n",
        "Uma curiosidade bem interessante sobre os pacotes de ondas é que **o centro deles segue a física clássica!** Sua posição e momento médios se comportam classicamente, graças ao **Teorema de Ehrenfest** (Quanto mais \"perturbado\" for o pacote, menor a ocorrência desse evento, por isso ele se encaixa tão bem em um pacote de onda livre!):\n",
        "\n",
        "$$\n",
        "\\frac{d}{dt}⟨x⟩ = \\frac{⟨p⟩}{m}\n",
        "$$\n",
        "\n",
        "$$\n",
        "\\frac{d}{dt}⟨p⟩ = - ⟨\\frac{dV}{dt}⟩\n",
        "$$\n",
        "\n",
        "Não vamos adentrar muito no teorema aqui, mas você pode consultar ele logo no início do livro do Griffhts recomendado anteriormente, nas páginas 11 a 14.  \n",
        "\n",
        "\n",
        "---\n",
        "\n",
        "## Poço de potencial Delta de Dirac\n",
        "\n",
        "Um dos fatos mais interessantes sobre o potencial Delta de Dirac é que mesmo sendo infinitamente estreito ele **é capaz de prender uma partícula!** E tem mais! Além de conseguir prender uma partícula (desde que o \"peso\" (α) seja maior que zero), ele tem apenas **um estado possível de energia:**\n",
        "\n",
        "$$\n",
        "E = -\\frac{mα^2}{2ħ^2}\n",
        "$$\n",
        "\n",
        "Esse comportamento estranho de apenas um estado ligado é utilizado para simplificar outras aplicações! Temos por exemplo as interações de força muito curta em física nuclear e de partículas, que podem ser aproximadas pelo potencial Delta de Dirac!\n",
        "\n",
        "---\n",
        "\n",
        "## Poço quadrado finito\n",
        "\n",
        "Nesse potencial temos duas curiosidades bem interessantes. A primeira diz respeito ao **\"estado quase-ligado\"**.\n",
        "\n",
        "- De forma breve, quando a partícula possui energia ligeiramente acima da barreira de potencial, mas ainda está confinada por um tempo, dizemos que ela entra em um regime de *quasi-bound state*. Temos então a ressonância de espalhamento, com picos bem definidos na probabilidade de transmissão.\n",
        "\n",
        "A segunda fala sobre a **não existência de soluções fechadas para os níveis de energia**\n",
        "\n",
        "- Pela primeira vez nas resoluções da Equação de Schrodinger, encontramos uma equação **transcendental**. Ou seja, não conseguimos extrair soluções \"no papel\", temos de utilizar recursos gráficos e numéricos para prosseguir.\n",
        "\n",
        "---\n",
        "\n",
        "## Poço quadrado duplo\n",
        "\n",
        "Algo bem chamativo sobre o poço quadrado duplo é o fato de que podemos usá-lo para explanar fisicamente o experimento mental do **gato de Schrodinger!** Os dois poços seriam como as situações de \"vida\" e \"morte\" do gato na caixa, enquanto a função de onda distribuida pelo espaço, tunelando entre os poços, estaria representando a superposição desse experimento.\n",
        "\n",
        "---\n",
        "\n"
      ],
      "metadata": {
        "id": "ZP4CY6ktvj_i"
      }
    }
  ]
}