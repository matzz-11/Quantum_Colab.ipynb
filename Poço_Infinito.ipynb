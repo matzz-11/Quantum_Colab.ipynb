!pip install -q ipywidgets

#Copie e cole esse código em um notebook Colab!

#Bibliotecas utilizadas
import numpy as np
import matplotlib.pyplot as plt
from ipywidgets import interact, IntSlider, FloatSlider, Dropdown

#Constantes em unidades naturais, para simplificar cálculos
hbar = 1.0
m = 1.0

#Definição da Função de Psi com condições de contorno
def psi_n(x, n, a):
    psi = np.sqrt(2/a) * np.sin(n * np.pi * x / a)
    psi[(x < 0) | (x > a)] = 0
    return psi

#Definição da função de Energia Quantizada
def energia(ns, a):
    return (ns**2 * np.pi**2 * hbar**2) / (2 * m * a**2)

#Definição da função do Poço
def plot_poco_multienergia(n=1, a=1.0, viz='ψ(x)', Nx=1000):
    Nlevels = 5
    x = np.linspace(-0.1, a + 0.1, Nx)

#Função de onda do nível, em destaque
    psi = psi_n(x, n, a)

#Índices de 1 a 5 e suas energias
    ns = np.arange(1, Nlevels + 1)
    Es = energia(ns, a)

#Exibição dos níveis vizinhos
    idx = n - 1
    prev_idx = idx - 1 if idx > 0 else None
    next_idx = idx + 1 if idx < Nlevels - 1 else None
    prev_level = Es[prev_idx] if prev_idx is not None else None
    next_level = Es[next_idx] if next_idx is not None else None
    En = Es[idx]

#Cálculo da diferença de energia entre os níveis
    if next_level is not None:
        dE = next_level - En
    elif prev_level is not None:
        dE = En - prev_level
    else:
        dE = En

#Subplots
    fig, (ax1, ax2) = plt.subplots(1, 2, figsize=(16, 5))

#Regiões proibidas em vermelho
    ax1.axvspan(x.min(), 0, color='red', alpha=0.2)
    ax1.axvspan(a, x.max(), color='red', alpha=0.2)

#Energia anterior em verde
    if prev_level is not None:
        ax1.hlines(prev_level, 0, a, colors='green', linestyles='-.', alpha=0.9, linewidth=2,
                   label=f'$E_{{{n-1}}}$ (anterior)')

#Energia posterior em verde
    if next_level is not None:
        ax1.hlines(next_level, 0, a, colors='green', linestyles='-.', alpha=0.9, linewidth=2,
                   label=f'$E_{{{n+1}}}$ (próximo)')

#Energia atual em azul
    ax1.hlines(En, 0, a, color='blue', linestyle='-', linewidth=2.5,
               label=f'$E_{{{n}}} = {En:.2f}$')

#Plot de ψ e/ou densidade para o nível n
    if viz in ['ψ(x)', 'Ambos']:
        scale_psi = 0.6 * dE / np.max(np.abs(psi)) if np.max(np.abs(psi)) > 0 else 1
        y_psi = psi * scale_psi + En
        ax1.plot(x, y_psi, color='purple', linewidth=2, label=f'$\\psi_{{{n}}}(x)$')
    if viz in ['|ψ(x)|^2', 'Ambos']:
        dens = psi ** 2
        scale_dens = 0.6 * dE / np.max(dens) if np.max(dens) > 0 else 1
        y_dens = dens * scale_dens + En
        ax1.plot(x, y_dens, color='orange', linewidth=2, label=f'$|\\psi_{{{n}}}(x)|^2$')

#Ajuste de limites gráficos
    y_min = En - 1.2 * dE
    y_max = En + 1.2 * dE
    ax1.set_ylim(y_min, y_max)
    ax1.set_xlim(-0.1, a + 0.1)
    ax1.set_xlabel('x')
    ax1.set_ylabel('Amplitude + Energia')
    ax1.set_title(f'Poço Infinito (n={n}, a={a:.1f})')
    ax1.legend(bbox_to_anchor=(1.05, 1), loc='upper left')
    ax1.grid(True)

#Região proibida do gráfico estático
    ax2.axvspan(x.min(), 0, color='red', alpha=0.2)       # região proibida x<0
    ax2.axvspan(a, x.max(), color='red', alpha=0.2)       # região proibida x>a

#Recriar a função de onda e densidade de prob. de cada nível i (1 a 5)
    for i, Ei in zip(ns, Es):
        psi_i = psi_n(x, i, a)
        dens_i = psi_i ** 2

#Cálculo ΔE_i para escalonar essa função
        if i < Nlevels:
            dE_i = Es[i] - Ei            # E_{i+1} - E_i
        else:
            dE_i = Ei - Es[i - 2]        # (último caso) E_i - E_{i-1}

#Escalonar ψ_i em roxo
        scale_psi_i = 0.6 * dE_i / np.max(np.abs(psi_i)) if np.max(np.abs(psi_i)) > 0 else 1
        y_psi_i = psi_i * scale_psi_i + Ei
        ax2.plot(x, y_psi_i, color='purple', linewidth=1)

#Escalonar dens_i em amarelo
        scale_dens_i = 0.6 * dE_i / np.max(dens_i) if np.max(dens_i) > 0 else 1
        y_dens_i = dens_i * scale_dens_i + Ei
        ax2.plot(x, y_dens_i, color='gold', linewidth=1)


#Ajustes no gráfico fixo
    menor_espaco = Es[1] - Es[0]
    maior_espaco = Es[-1] - Es[-2]
    ax2.set_ylim(Es[0] - 1.2 * menor_espaco, Es[-1] + 1.2 * maior_espaco)
    ax2.set_xlim(-0.1, a + 0.1)
    ax2.set_xlabel('x')
    ax2.set_ylabel('Amplitude + Energia')
    ax2.set_title('Níveis 1 a 5: ψ em roxo e |ψ|² em amarelo')
    ax2.grid(True)

    plt.tight_layout()
    plt.show()

#Interatividade 
interact(
    plot_poco_multienergia,
    n=IntSlider(value=1, min=1, max=5, step=1, description='n'),
    a=FloatSlider(value=1.0, min=0.5, max=5.0, step=0.1, description='a'),
    viz=Dropdown(options=['ψ(x)', '|ψ(x)|^2', 'Ambos'], value='ψ(x)', description='Mostrar'),
    Nx=IntSlider(value=1000, min=200, max=2000, step=100, description='Pontos x')
)
